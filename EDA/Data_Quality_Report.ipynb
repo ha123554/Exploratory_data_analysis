{
  "nbformat": 4,
  "nbformat_minor": 0,
  "metadata": {
    "colab": {
      "provenance": []
    },
    "kernelspec": {
      "name": "python3",
      "display_name": "Python 3"
    },
    "language_info": {
      "name": "python"
    }
  },
  "cells": [
    {
      "cell_type": "markdown",
      "source": [
        "# **Data Quality Report**\n",
        "Based on the initial inspection of the data, here is a summary of the data quality issues and the planned cleaning steps to address them. You can add this as a dedicated section to your notebook.\n",
        "\n",
        "# 1. Missingness\n",
        "The dataset contains a significant number of missing values, which need to be handled before any meaningful analysis can be performed. The following columns have missing data:\n",
        "\n",
        "# brand:\n",
        "Several entries are missing, which could be important for brand-level analysis.\n",
        "\n",
        "# price:\n",
        "Missing price data for some transactions.\n",
        "\n",
        "payment_method: Crucial information for understanding customer behavior is missing.\n",
        "\n",
        "# delivery_days:\n",
        "Missing values in this column would impact any analysis on delivery performance.\n",
        "\n",
        "region: Missing regional information is a concern for geographic analysis.\n",
        "\n",
        "# customer_age_group:\n",
        "Missing values here affect demographic analysis.\n",
        "\n",
        "device_type: The device used for the purchase is not recorded for all entries.\n",
        "\n",
        "# 2. Anomalies and Inconsistent Data\n",
        "Several columns have data that is either in an incorrect format or contains inconsistencies:\n",
        "\n",
        "# order_date:\n",
        "The column is currently stored as a generic object type. It needs to be converted to a proper datetime format to enable time-series analysis.\n",
        "\n",
        "# main_category:\n",
        "The capitalization is inconsistent (e.g., 'Baby' and 'baby'). This needs to be standardized to ensure accurate category counts and comparisons.\n",
        "\n",
        "# sub_category:\n",
        "There appear to be potential spelling errors, such as 'Booti3s' and 'J3w3lry', that could skew category analysis.\n",
        "\n",
        "# 3. Cleaning Steps\n",
        "The following steps should be taken to clean and prepare the data:\n",
        "\n",
        "Convert Data Types: The order_date column will be converted to a datetime type.\n",
        "\n",
        "Standardize Text Data: The main_category column will be converted to a single case (e.g., all lowercase) to ensure consistency.\n",
        "# New Section\n",
        "Handle Missing Values:\n",
        "\n",
        "Missing brand values will be filled with 'Unknown'.\n",
        "\n",
        "Rows with missing payment_method and region will be dropped, as these are critical variables for business insights.\n",
        "\n",
        "Missing delivery_days will be imputed with the median value of the column.\n",
        "\n",
        "The remaining missing values in columns like customer_age_group will be handled as appropriate for subsequent analysis."
      ],
      "metadata": {
        "id": "1zMWtJArPgN9"
      }
    }
  ]
}