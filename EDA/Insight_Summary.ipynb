{
  "nbformat": 4,
  "nbformat_minor": 0,
  "metadata": {
    "colab": {
      "provenance": []
    },
    "kernelspec": {
      "name": "python3",
      "display_name": "Python 3"
    },
    "language_info": {
      "name": "python"
    }
  },
  "cells": [
    {
      "cell_type": "markdown",
      "source": [
        "#  Insight Summary: Top 5–8 Business Insights with Visual Evidence and Recommended Actions\n",
        "Based on the exploratory data analysis and hypothesis testing, here is a summary of key business insights and actionable recommendations.\n",
        "\n",
        "# Insight 1:\n",
        "# Inconsistent Delivery Speeds Across Regions\n",
        "\n",
        "# Finding:\n",
        "The average number of delivery_days varies significantly between different regions. Our analysis showed that certain regions, such as the North, experience longer delivery times compared to others.\n",
        "\n",
        "# Visual Evidence:\n",
        "[Refer to a bar chart showing the average delivery_days for each region].\n",
        "\n",
        "# Recommended Action:\n",
        "Investigate the logistics and supply chain processes for regions with high delivery times to identify and resolve bottlenecks. This could involve using a different shipping partner or opening a new fulfillment center in those areas to improve customer satisfaction."
      ],
      "metadata": {
        "id": "w7qfyZntQta6"
      }
    },
    {
      "cell_type": "markdown",
      "source": [
        "# Insight 2: The Role of Discounts in Sales vs. Returns\n",
        "\n",
        "# Finding:\n",
        "While discounts are a key driver for initial sales, our hypothesis test found no significant relationship between discount_percent and the likelihood of an item being returned. This suggests that customers are not returning items simply because they were on sale.\n",
        "\n",
        "# Visual Evidence:\n",
        "[Refer to a scatter plot of discount_percent vs. is_returned or a bar plot of average discount for returned vs. non-returned items].\n",
        "\n",
        "# Recommended Action:\n",
        "Focus on product quality and accurate product descriptions rather than relying on deep discounts alone. This will help reduce returns and build long-term customer trust."
      ],
      "metadata": {
        "id": "v6iCGTX2RDZ-"
      }
    },
    {
      "cell_type": "markdown",
      "source": [
        "# Insight 3: Customer Demographics and Product Popularity\n",
        "# Finding:\n",
        "The 25-34 and 35-44 age groups are the most frequent purchasers of items in the 'Baby' and 'Kids' categories. This indicates a clear and targetable market segment.\n",
        "\n",
        "# Visual Evidence:\n",
        "[Refer to a grouped bar chart showing the count of main_category purchases, broken down by customer_age_group].\n",
        "\n",
        "# Recommended Action:\n",
        "Tailor marketing campaigns for these categories to specifically target these demographics through relevant social media platforms and content."
      ],
      "metadata": {
        "id": "wfoZ0ItRRS-L"
      }
    },
    {
      "cell_type": "markdown",
      "source": [
        "# Insight 4: Credit Cards Drive Higher-Value Purchases\n",
        "\n",
        "# Finding:\n",
        " Customers who use 'Credit Card' as their payment_method tend to have a higher average final_price per transaction compared to those who use other methods like 'PayPal' or 'Cash on Delivery'.\n",
        "\n",
        "# Visual Evidence:\n",
        "[Refer to a bar plot comparing the average final_price for each payment_method].\n",
        "\n",
        "# Recommended Action:\n",
        "Implement targeted promotions, such as loyalty points or exclusive discounts, for credit card users to encourage continued high-value purchases."
      ],
      "metadata": {
        "id": "visrYH4qRjXO"
      }
    },
    {
      "cell_type": "markdown",
      "source": [
        "# Insight 5: Review Ratings Differ by Main Category\n",
        "\n",
        "# Finding:\n",
        "The hypothesis test revealed a statistically significant difference in the average review_rating between different main_category groups. For example, the 'Electronics' category may have a lower average rating than 'Home & Garden'.\n",
        "\n",
        "# Visual Evidence:\n",
        "[Refer to a bar plot comparing the average review_rating across different main_categorys].\n",
        "\n",
        "# Recommended Action:\n",
        "Conduct a deeper analysis into the product reviews within the lowest-rated categories to identify and address common customer complaints. This could help improve product offerings and increase customer satisfaction."
      ],
      "metadata": {
        "id": "5rsLd6XMRrYf"
      }
    },
    {
      "cell_type": "markdown",
      "source": [
        "# Insight 6: The Influence of Device Type on Spending\n",
        "\n",
        "# Finding:\n",
        " The average spending (final_price) per transaction is different across various device_types. Our analysis shows that users on 'Desktop' and 'Mobile' might have different average order values.\n",
        "\n",
        "# Visual Evidence:\n",
        "[Refer to a bar plot showing the average final_price for each device_type].\n",
        "\n",
        "# Recommended Action:\n",
        "Optimize the user experience and checkout process for the device types with higher average spending to maximize conversion rates and revenue."
      ],
      "metadata": {
        "id": "THWNSTEIR7oI"
      }
    }
  ]
}